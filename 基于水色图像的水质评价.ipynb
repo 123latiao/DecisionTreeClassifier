{
 "cells": [
  {
   "cell_type": "markdown",
   "id": "1f940dbb",
   "metadata": {},
   "source": [
    "# 一、数据预处理"
   ]
  },
  {
   "cell_type": "markdown",
   "id": "c78be97c",
   "metadata": {},
   "source": [
    "1.图像切割：一般采集到的水样图像会包含盛水容器，并且容器的颜色与水体颜色差异较大，同时位于图像中央，因此截取图像，只保留中央部分。"
   ]
  },
  {
   "cell_type": "markdown",
   "id": "d9f8cd4a",
   "metadata": {},
   "source": [
    "2.特征提取：颜色特征是一种全局特征，具有稳健性。对切割后的图像提取其颜色矩，作为图像的颜色特征。因为取值范围差别较大，不能直接输入模型（导致模型精度下降），因此在建模之前先标准化数据。"
   ]
  },
  {
   "cell_type": "markdown",
   "id": "a7940b79",
   "metadata": {},
   "source": [
    "图像数据集：已经分好类别了：类别-编号.jpg"
   ]
  },
  {
   "cell_type": "code",
   "execution_count": 88,
   "id": "f1bc1cfd",
   "metadata": {},
   "outputs": [],
   "source": [
    "import numpy as np\n",
    "import os,re    #os 模块用来处理文件路径和目录操作；re 正则表达式模块用来匹配文件名的模式。\n",
    "from PIL import Image\n",
    "#PIL 是Python Imaging Library的缩写，它提供了处理图像的功能。\n",
    "#可以使用导入的 Image 类来打开、操作和处理图像文件。"
   ]
  },
  {
   "cell_type": "markdown",
   "id": "032af451",
   "metadata": {},
   "source": [
    "图像切割及特征提取"
   ]
  },
  {
   "cell_type": "code",
   "execution_count": 89,
   "id": "5b18fee5",
   "metadata": {},
   "outputs": [],
   "source": [
    "\n",
    "path = \"C:/Users/liuti/基于水色图像的水质测评/images\"  # 图片所在路径"
   ]
  },
  {
   "cell_type": "code",
   "execution_count": 90,
   "id": "5b0bf129",
   "metadata": {},
   "outputs": [],
   "source": [
    "# 自定义获取图片名称函数\n",
    "def getImgNames(path=path):\n",
    "    '''\n",
    "    获取指定路径中所有图片的名称\n",
    "    :param path: 指定的路径\n",
    "    :return: 名称列表\n",
    "    '''\n",
    "    filenames = os.listdir(path)   # os.listdir() 函数获取指定路径 path 下的所有文件和文件夹的名称\n",
    "    imgNames = []   #存储符合特定文件名模式的图像文件名称\n",
    "    for i in filenames:\n",
    "        if re.findall('^\\d_\\d+\\.jpg$', i) != []:      #文件名符合“数字_数字.jpg结尾的 ；^是行的开始，%是行的结束。\n",
    "            imgNames.append(i)\n",
    "            #print(imgNames)  # 添加这一行来打印文件名\n",
    "    return imgNames"
   ]
  },
  {
   "cell_type": "code",
   "execution_count": 91,
   "id": "070dfabd",
   "metadata": {
    "scrolled": true
   },
   "outputs": [
    {
     "data": {
      "text/plain": [
       "'创建一个一维的NumPy数组 labels，用于存储样本标签'"
      ]
     },
     "execution_count": 91,
     "metadata": {},
     "output_type": "execute_result"
    }
   ],
   "source": [
    "# 批量处理图片数据\n",
    "imgNames = getImgNames(path=path)  # 获取所有图片名称\n",
    "n = len(imgNames)        # 图片张数\n",
    "data = np.zeros([n, 9])  # 用来装样本自变量\n",
    "'''创建一个二维的NumPy数组 data，其中每个图像的特征将存储在一个行中，\n",
    "每行有9个元素，用于装载样本自变量。\n",
    "初始化时，数组中的所有元素都被设置为零。'''\n",
    "labels = np.zeros([n])   # 用来放样本标签\n",
    "'''创建一个一维的NumPy数组 labels，用于存储样本标签'''"
   ]
  },
  {
   "cell_type": "code",
   "execution_count": 92,
   "id": "86b76dc4",
   "metadata": {},
   "outputs": [
    {
     "data": {
      "text/plain": [
       "203"
      ]
     },
     "execution_count": 92,
     "metadata": {},
     "output_type": "execute_result"
    }
   ],
   "source": [
    "n   #共有203张图片"
   ]
  },
  {
   "cell_type": "markdown",
   "id": "b7bfa5f2",
   "metadata": {},
   "source": [
    "地址老是报错：原因是使用 os.path.join 函数可以提高代码的跨平台兼容性，确保代码在不同操作系统上都能正确处理文件路径。这是一个良好的实践，尤其是在处理文件时。但是之前使用的是：img = Image.open(path+imgNames[i])  # 读取图片。PIL库的Image.open函数来打开图像文件，这是一种常见的方法。但是有时候，特别是在处理中文路径或特殊字符的情况下，PIL可能会出现问题。"
   ]
  },
  {
   "cell_type": "code",
   "execution_count": 97,
   "id": "76c4d04f",
   "metadata": {},
   "outputs": [],
   "source": [
    "# 自定义获取三阶颜色矩函数\n",
    "def Var(data=None):\n",
    "    '''\n",
    "    获取给定像素值矩阵的三阶颜色矩\n",
    "    :param data: 给定的像素值矩阵\n",
    "    :return: 对应的三阶颜色矩\n",
    "    '''\n",
    "    x = np.mean((data-data.mean())**3)   #计算立方差的平均值\n",
    "    return np.sign(x)*abs(x)**(1/3)   # np.sign() 函数来获取 x 的符号\n"
   ]
  },
  {
   "cell_type": "code",
   "execution_count": 109,
   "id": "2908fda1",
   "metadata": {},
   "outputs": [],
   "source": [
    "for i in range(n):\n",
    "    img_path = os.path.join(path,imgNames[i])  # 读取图片\n",
    "    #print(\"Attempting to open file:\", img_path)\n",
    "    img = Image.open(img_path)  # 读取图片\n",
    "    M,N = img.size  # 图片像素的尺寸:宽、高\n",
    "    img = img.crop((M/2-50,N/2-50,M/2+50,N/2+50))    # 图片切割\n",
    "    '''crop 方法接受一个包含左上角和右下角坐标的四元组，表示切割区域。\n",
    "    在这里，图像被切割为以当前图像中心为中心的 100x100 像素区域。'''\n",
    "    \n",
    "    r,g,b = img.split()   #将图片分割成三通道，分别存在红、绿、蓝通道,因此可以分别处理每个颜色通道的数据\n",
    "    \n",
    "    rd = np.asarray(r)/255   #(常见)分别将每个颜色通道的图像数据转换为NumPy数组，并将像素值缩放到范围[0, 1]之间。\n",
    "    gd = np.asarray(g)/255\n",
    "    bd = np.asarray(b)/255\n",
    "    \n",
    "    #颜色矩是一种用于描述图像颜色分布的统计特征\n",
    "    data[i,0] = rd.mean()  # 一阶颜色矩,代表图像整体明暗程度\n",
    "    data[i,1] = gd.mean()\n",
    "    data[i,2] = bd.mean()\n",
    "    \n",
    "    data[i,3] = rd.std()   # 二阶颜色矩，代表图像颜色的分布范围\n",
    "    data[i,4] = gd.std()\n",
    "    data[i,5] = bd.std()\n",
    "\n",
    "    data[i,6] = Var(rd)    # 三阶颜色矩，代表图像颜色分布的对称性\n",
    "    data[i,7] = Var(gd)\n",
    "    data[i,8] = Var(bd)\n",
    "    \n",
    "    labels[i] = imgNames[i][0]  # 从当前图像的文件名提取第一个字符作为样本（类别）标签"
   ]
  },
  {
   "cell_type": "markdown",
   "id": "d57e29ef",
   "metadata": {},
   "source": [
    "模型构建：使用决策树。对标准化之后的样本进行抽样，0.8是训练集，0.2是测试集。"
   ]
  },
  {
   "cell_type": "code",
   "execution_count": 110,
   "id": "ab0583aa",
   "metadata": {},
   "outputs": [],
   "source": [
    "from sklearn.model_selection import train_test_split\n",
    "# 数据拆分,训练集、测试集\n",
    "data_tr,data_te,label_tr,label_te = train_test_split(data,labels,test_size=0.2,\n",
    "                                                     random_state=10)\n",
    "#random_state=10 是一个随机种子，用于确保每次运行时数据拆分的一致性。\n"
   ]
  },
  {
   "cell_type": "code",
   "execution_count": 111,
   "id": "53f7c949",
   "metadata": {},
   "outputs": [],
   "source": [
    "\n",
    "from sklearn.tree import DecisionTreeClassifier\n",
    "# 模型训练\n",
    "#.fit(data_tr, label_tr) 使用训练数据来拟合模型(学习如何根据特征数据来进行分类)\n",
    "model = DecisionTreeClassifier(random_state=5).fit(data_tr, label_tr) \n",
    "\n",
    "from sklearn.metrics import confusion_matrix\n",
    "#使用训练好的决策树分类模型 model 对测试数据 data_te 进行预测\n",
    "pre_te = model.predict(data_te)\n"
   ]
  },
  {
   "cell_type": "markdown",
   "id": "6029d0dd",
   "metadata": {},
   "source": [
    "水质评价"
   ]
  },
  {
   "cell_type": "code",
   "execution_count": 114,
   "id": "8c6d6bd6",
   "metadata": {
    "scrolled": true
   },
   "outputs": [
    {
     "name": "stdout",
     "output_type": "stream",
     "text": [
      "[[ 5  1  5  0]\n",
      " [ 3  8  0  0]\n",
      " [ 2  0 12  0]\n",
      " [ 0  1  0  4]]\n"
     ]
    }
   ],
   "source": [
    "\n",
    "# 混淆矩阵_评估分类模型的性能（比较模型的预测结果与实际标签）\n",
    "cm_te = confusion_matrix(label_te,pre_te)\n",
    "print(cm_te)\n"
   ]
  },
  {
   "cell_type": "markdown",
   "id": "ef424f07",
   "metadata": {},
   "source": [
    "每一行代表实际类别，每一列代表预测类别。\n",
    "第一行表示实际类别0，对应于第一列的值：5个实例被正确分类为类别0，1个实例被误分类为类别1，5个实例被误分类为类别2，没有实例被误分类为类别3。\n",
    "\n",
    "第二行表示实际类别1，对应于第二列的值：3个实例被正确分类为类别1，8个实例被正确分类为类别1，没有实例被误分类为其他类别。"
   ]
  },
  {
   "cell_type": "code",
   "execution_count": 115,
   "id": "dbb7052a",
   "metadata": {},
   "outputs": [
    {
     "name": "stdout",
     "output_type": "stream",
     "text": [
      "0.7073170731707317\n"
     ]
    }
   ],
   "source": [
    "\n",
    "from sklearn.metrics import accuracy_score\n",
    "# 准确率\n",
    "print(accuracy_score(label_te,pre_te))\n"
   ]
  },
  {
   "cell_type": "markdown",
   "id": "f52ac1d2",
   "metadata": {},
   "source": [
    "相对较好"
   ]
  },
  {
   "cell_type": "code",
   "execution_count": null,
   "id": "187671bf",
   "metadata": {},
   "outputs": [],
   "source": []
  }
 ],
 "metadata": {
  "kernelspec": {
   "display_name": "Python 3 (ipykernel)",
   "language": "python",
   "name": "python3"
  },
  "language_info": {
   "codemirror_mode": {
    "name": "ipython",
    "version": 3
   },
   "file_extension": ".py",
   "mimetype": "text/x-python",
   "name": "python",
   "nbconvert_exporter": "python",
   "pygments_lexer": "ipython3",
   "version": "3.10.9"
  }
 },
 "nbformat": 4,
 "nbformat_minor": 5
}
